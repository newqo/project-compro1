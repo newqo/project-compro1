{
 "cells": [
  {
   "cell_type": "markdown",
   "metadata": {},
   "source": [
    "**Project : โปรแกรมชำระเบี้ยประกันภัย**\n",
    "---"
   ]
  },
  {
   "cell_type": "markdown",
   "metadata": {},
   "source": [
    "**กำหนดส่ง** : สัปดาห์สุดท้ายก่อนสอบ Final"
   ]
  },
  {
   "cell_type": "markdown",
   "metadata": {},
   "source": [
    "คำอธิบาย\n",
    "---\n",
    "    โปรแกรมชำระเบี้ยประกันภัย โดยให้ผู้ใช้เลือกประเภทของประกันภัยที่จะซื้อ และสามารถกรอกข้อมูลเพื่อตรวจสอบก่อนชำระเบี้ยประกันได้ว่าเข้าเงื่อนไขของประกันภัยนั้นหรือไม่ \n",
    "    ถ้าไม่เข้าเงื่อนไขก็แจ้งเตือนผู้ใช้ว่า ผู้ใช้ไม่เข้าเงื่อนไขของประกันภัยประเภทนี้ ถ้าเข้าเงื่อนไขก็เข้าสู่หน้ารายการกรอกข้อมูลส่วนตัวราคาที่จะต้องชำระเบี้ย ผู้รับสิทธิ \n",
    "    ระยะเวลาค้ำประกัน สิทธิและเงื่อนไขต่างๆของประกันที่ผู้ใช้เลือก และสร้างหน้ารายละเอียดของประกันภัย ประวัติผู้ใช้ให้ผู้ใช้ได้ทราบว่า ผู้ใช้ชำระเงินไปกี่งวด และเหลืออีกกี่งวด"
   ]
  },
  {
   "cell_type": "markdown",
   "metadata": {},
   "source": [
    "Project check list\n",
    "---\n",
    "- Calculation (you can use math module) \n",
    "- If condition\n",
    "- Iteration/Loop\n",
    "- Containers (list or Tuple or Dictionary)\n",
    "- Function, parameters & return values\n",
    "- GUI TKinter (use .grid() for layout)\n",
    "- exception (try... except...) e.g,Read data file...\n",
    "- Data file\n",
    "- Write and Read data file (and process)"
   ]
  },
  {
   "cell_type": "markdown",
   "metadata": {},
   "source": [
    "ขั้นตอนวิเคราะห์และออกแบบกระบวนการแก้ปัญหา\n",
    "---\n",
    "- ศึกษาทำความเข้าใจปัญหา\n",
    "- วิเคราะห์ข้อมูลเข้าและผลลัพธ์ (Input/Output)\n",
    "- กำหนดวิธีการแก้ปัญหาเบื้องต้น\n",
    "- เขียนขั้นตอนกระบวนการแก้ปัญหา(Flowchart)\n",
    "    - เขียนผังงาน (Flowchart)"
   ]
  }
 ],
 "metadata": {
  "kernelspec": {
   "display_name": "Python 3.10.6 64-bit",
   "language": "python",
   "name": "python3"
  },
  "language_info": {
   "codemirror_mode": {
    "name": "ipython",
    "version": 3
   },
   "file_extension": ".py",
   "mimetype": "text/x-python",
   "name": "python",
   "nbconvert_exporter": "python",
   "pygments_lexer": "ipython3",
   "version": "3.10.6"
  },
  "orig_nbformat": 4,
  "vscode": {
   "interpreter": {
    "hash": "aee8b7b246df8f9039afb4144a1f6fd8d2ca17a180786b69acc140d282b71a49"
   }
  }
 },
 "nbformat": 4,
 "nbformat_minor": 2
}
